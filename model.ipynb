{
 "cells": [
  {
   "cell_type": "code",
   "execution_count": 0,
   "metadata": {
    "cellView": "both",
    "colab": {},
    "colab_type": "code",
    "id": "6cPY9Ou4sWs_"
   },
   "outputs": [],
   "source": [
    "import tempfile\n",
    "\n",
    "# For downloading the image.\n",
    "import matplotlib.pyplot as plt\n",
    "# For drawing onto the image.\n",
    "import numpy as np\n",
    "import tensorflow as tf\n",
    "import tensorflow_hub as hub\n",
    "from PIL import Image, ImageColor, ImageDraw, ImageFont, ImageOps\n",
    "from six import BytesIO\n",
    "from six.moves.urllib.request import urlopen\n",
    "\n",
    "tf.enable_eager_execution()\n",
    "\n",
    "# Check available GPU devices.\n",
    "print(\"The following GPU devices are available: %s\" %\n",
    "      tf.test.gpu_device_name())"
   ]
  },
  {
   "cell_type": "code",
   "execution_count": 0,
   "metadata": {
    "colab": {},
    "colab_type": "code",
    "id": "D9IwDpOtpIHW"
   },
   "outputs": [],
   "source": [
    "def display_image(image):\n",
    "    fig = plt.figure(figsize=(20, 15))\n",
    "    plt.grid(False)\n",
    "    plt.imshow(image)\n",
    "\n",
    "\n",
    "# def download_image(url):\n",
    "#   _, filename = tempfile.mkstemp(suffix=\".jpg\")\n",
    "#   response = urlopen(url)\n",
    "#   image_data = response.read()\n",
    "#   image_data = BytesIO(image_data)\n",
    "#   return filename, image_data\n",
    "\n",
    "\n",
    "def resize_image(image_data,\n",
    "                 filename,\n",
    "                 new_width=256,\n",
    "                 new_height=256,\n",
    "                 display=False):\n",
    "    filename, image_data = download_image(url)\n",
    "    pil_image = Image.open(image_data)\n",
    "    pil_image = ImageOps.fit(pil_image, (new_width, new_height),\n",
    "                             Image.ANTIALIAS)\n",
    "    pil_image_rgb = pil_image.convert(\"RGB\")\n",
    "    pil_image_rgb.save(filename, format=\"JPEG\", quality=90)\n",
    "    print(\"Image downloaded to %s.\" % filename)\n",
    "    if display:\n",
    "        display_image(pil_image)\n",
    "    return filename\n",
    "\n",
    "\n",
    "def draw_boxes(image, boxes, class_names, scores, max_boxes=10, min_score=0.1):\n",
    "    \"\"\"Overlay labeled boxes on an image with formatted scores and label names.\"\"\"\n",
    "    colors = list(ImageColor.colormap.values())\n",
    "\n",
    "    try:\n",
    "        font = ImageFont.truetype(\n",
    "            \"/usr/share/fonts/truetype/liberation/LiberationSansNarrow-Regular.ttf\",\n",
    "            25)\n",
    "    except IOError:\n",
    "        print(\"Font not found, using default font.\")\n",
    "        font = ImageFont.load_default()\n",
    "\n",
    "    for i in range(min(boxes.shape[0], max_boxes)):\n",
    "        if scores[i] >= min_score:\n",
    "            ymin, xmin, ymax, xmax = tuple(boxes[i])\n",
    "            display_str = \"{}: {}%\".format(class_names[i].decode(\"ascii\"),\n",
    "                                           int(100 * scores[i]))\n",
    "            color = colors[hash(class_names[i]) % len(colors)]\n",
    "            image_pil = Image.fromarray(np.uint8(image)).convert(\"RGB\")\n",
    "            draw_bounding_box_on_image(image_pil,\n",
    "                                       ymin,\n",
    "                                       xmin,\n",
    "                                       ymax,\n",
    "                                       xmax,\n",
    "                                       color,\n",
    "                                       font,\n",
    "                                       display_str_list=[display_str])\n",
    "            np.copyto(image, np.array(image_pil))\n",
    "    return image"
   ]
  },
  {
   "cell_type": "code",
   "execution_count": 0,
   "metadata": {
    "colab": {},
    "colab_type": "code",
    "id": "uazJ5ASc2_QE"
   },
   "outputs": [],
   "source": [
    "module_handle = \"https://tfhub.dev/google/openimages_v4/ssd/mobilenet_v2/1\" #@param [\"https://tfhub.dev/google/openimages_v4/ssd/mobilenet_v2/1\", \"https://tfhub.dev/google/faster_rcnn/openimages_v4/inception_resnet_v2/1\"]\n",
    "\n",
    "detector = hub.load(module_handle).signatures['default']"
   ]
  },
  {
   "cell_type": "code",
   "execution_count": 0,
   "metadata": {
    "colab": {},
    "colab_type": "code",
    "id": "znW8Fq1EC0x7"
   },
   "outputs": [],
   "source": [
    "def load_img(path):\n",
    "    img = tf.io.read_file(path)\n",
    "    img = tf.image.decode_jpeg(img, channels=3)\n",
    "    return img"
   ]
  },
  {
   "cell_type": "code",
   "execution_count": 0,
   "metadata": {
    "colab": {},
    "colab_type": "code",
    "id": "kwGJV96WWBLH"
   },
   "outputs": [],
   "source": [
    "def run_detector(detector, path):\n",
    "    img = load_img(path)\n",
    "\n",
    "    converted_img = tf.image.convert_image_dtype(img,\n",
    "                                                 tf.float32)[tf.newaxis, ...]\n",
    "\n",
    "    result = detector(converted_img)\n",
    "\n",
    "    result = {key: value.numpy() for key, value in result.items()}\n",
    "\n",
    "    print(\"Found %d objects.\" % len(result[\"detection_scores\"]))\n",
    "\n",
    "    image_with_boxes = draw_boxes(img.numpy(), result[\"detection_boxes\"],\n",
    "                                  result[\"detection_class_entities\"],\n",
    "                                  result[\"detection_scores\"]) \n",
    "    # Only for visualisation..It will be removed in final code\n",
    "    display_image(image_with_boxes)\n",
    "\n",
    "    return results"
   ]
  },
  {
   "cell_type": "code",
   "execution_count": 0,
   "metadata": {
    "colab": {},
    "colab_type": "code",
    "id": "94jRs5e5zQph"
   },
   "outputs": [],
   "source": [
    "import json\n",
    "\n",
    "import requests\n",
    "from flask import Flask, abort, request"
   ]
  },
  {
   "cell_type": "code",
   "execution_count": 0,
   "metadata": {
    "colab": {},
    "colab_type": "code",
    "id": "mVj1TenJ1YP_"
   },
   "outputs": [],
   "source": [
    "app = Flask(__name__)\n",
    "\n",
    "\n",
    "@app.route(\"/\", methods=['POST'])\n",
    "def detect():\n",
    "    image = request.files['image']\n",
    "    image_path = resize(image, 640, 480)\n",
    "    run_detector(detector, image_path)\n",
    "    return results"
   ]
  },
  {
   "cell_type": "code",
   "execution_count": 0,
   "metadata": {
    "colab": {},
    "colab_type": "code",
    "id": "QY1Tr8-46txQ"
   },
   "outputs": [],
   "source": [
    "import socket\n",
    "import threading\n",
    "\n",
    "print(socket.gethostbyname(socket.getfqdn(socket.gethostname())))\n",
    "\n",
    "threading.Thread(target=app.run, kwargs={\n",
    "    'host': '0.0.0.0',\n",
    "    'port': 80\n",
    "}).start()"
   ]
  }
 ],
 "metadata": {
  "accelerator": "GPU",
  "colab": {
   "collapsed_sections": [],
   "name": "Copy of Object detection",
   "private_outputs": true,
   "provenance": []
  },
  "kernelspec": {
   "display_name": "Python 3.7",
   "language": "python",
   "name": "python3"
  },
  "language_info": {
   "codemirror_mode": {
    "name": "ipython",
    "version": 3
   },
   "file_extension": ".py",
   "mimetype": "text/x-python",
   "name": "python",
   "nbconvert_exporter": "python",
   "pygments_lexer": "ipython3",
   "version": "3.7.0"
  },
  "varInspector": {
   "cols": {
    "lenName": 16,
    "lenType": 16,
    "lenVar": 40
   },
   "kernels_config": {
    "python": {
     "delete_cmd_postfix": "",
     "delete_cmd_prefix": "del ",
     "library": "var_list.py",
     "varRefreshCmd": "print(var_dic_list())"
    },
    "r": {
     "delete_cmd_postfix": ") ",
     "delete_cmd_prefix": "rm(",
     "library": "var_list.r",
     "varRefreshCmd": "cat(var_dic_list()) "
    }
   },
   "types_to_exclude": [
    "module",
    "function",
    "builtin_function_or_method",
    "instance",
    "_Feature"
   ],
   "window_display": false
  }
 },
 "nbformat": 4,
 "nbformat_minor": 1
}
